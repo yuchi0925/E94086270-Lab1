{
 "cells": [
  {
   "cell_type": "code",
   "execution_count": 13,
   "metadata": {},
   "outputs": [],
   "source": [
    "def remove_outliers(n):\n",
    "    print(\"Enter the number of smallest and largest values to remove:\",n)\n",
    "    n_list = []\n",
    "    outliers = []\n",
    "    quit = 0\n",
    "\n",
    "    while(quit == 0):\n",
    "        input_value = input(\"Enter a value (q or Q to quit)\")\n",
    "        if input_value == \"q\" or input_value == \"Q\":\n",
    "            quit = 1\n",
    "        else:\n",
    "            n_list.append(int(input_value))  #產生數字列\n",
    "    print(\"The original data:\",n_list)\n",
    "\n",
    "    #將數字由小排到大\n",
    "    n_list.sort()\n",
    "\n",
    "    #移除n項最大值和最小值\n",
    "    for removed_value in range(n):\n",
    "        outliers.append(n_list[0])  #將數字列第一個數放進outliers\n",
    "        outliers.insert(-1,n_list[-1])  #將數字列最後一個數放進outliers\n",
    "        del n_list[0]  #刪除數字列第一個數\n",
    "        del n_list[-1]  #刪除數字列最後一個數\n",
    "\n",
    "    #將outliers裡的數由小排到大\n",
    "    outliers.sort()    \n",
    "\n",
    "    #印出結果\n",
    "    print(\"The data with the outliers removed:\",n_list)\n",
    "    print(\"The outliers:\",outliers)"
   ]
  },
  {
   "cell_type": "code",
   "execution_count": 15,
   "metadata": {},
   "outputs": [
    {
     "name": "stdout",
     "output_type": "stream",
     "text": [
      "Enter the number of smallest and largest values to remove: 2\n"
     ]
    },
    {
     "name": "stdin",
     "output_type": "stream",
     "text": [
      "Enter a value (q or Q to quit) 1001\n",
      "Enter a value (q or Q to quit) 2001\n",
      "Enter a value (q or Q to quit) 1\n",
      "Enter a value (q or Q to quit) 2\n",
      "Enter a value (q or Q to quit) -1001\n",
      "Enter a value (q or Q to quit) -20\n",
      "Enter a value (q or Q to quit) 5\n",
      "Enter a value (q or Q to quit) 4\n",
      "Enter a value (q or Q to quit) 3\n",
      "Enter a value (q or Q to quit) 1\n",
      "Enter a value (q or Q to quit) 2\n",
      "Enter a value (q or Q to quit) 3\n",
      "Enter a value (q or Q to quit) q\n"
     ]
    },
    {
     "name": "stdout",
     "output_type": "stream",
     "text": [
      "The original data: [1001, 2001, 1, 2, -1001, -20, 5, 4, 3, 1, 2, 3]\n",
      "The data with the outliers removed: [1, 1, 2, 2, 3, 3, 4, 5]\n",
      "The outliers: [-1001, -20, 1001, 2001]\n"
     ]
    }
   ],
   "source": [
    "num = remove_outliers(2)"
   ]
  },
  {
   "cell_type": "code",
   "execution_count": null,
   "metadata": {},
   "outputs": [],
   "source": []
  }
 ],
 "metadata": {
  "kernelspec": {
   "display_name": "Python 3",
   "language": "python",
   "name": "python3"
  },
  "language_info": {
   "codemirror_mode": {
    "name": "ipython",
    "version": 3
   },
   "file_extension": ".py",
   "mimetype": "text/x-python",
   "name": "python",
   "nbconvert_exporter": "python",
   "pygments_lexer": "ipython3",
   "version": "3.8.5"
  }
 },
 "nbformat": 4,
 "nbformat_minor": 4
}
