{
 "cells": [
  {
   "cell_type": "code",
   "execution_count": 33,
   "metadata": {},
   "outputs": [],
   "source": [
    "import random \n",
    "\n",
    "again = 1 #判斷遊戲是否在進行一次，again=0時遊戲結束\n",
    "count_ties = 0 #計算平手的次數\n",
    "count_lose = 0 #計算輸的次數"
   ]
  },
  {
   "cell_type": "code",
   "execution_count": 34,
   "metadata": {},
   "outputs": [
    {
     "name": "stdout",
     "output_type": "stream",
     "text": [
      "Welcome to ROCK, PAPER, SCISSORS game!\n"
     ]
    },
    {
     "name": "stdin",
     "output_type": "stream",
     "text": [
      "Enter your move: (r)ock (p)aper (s)cissors r\n"
     ]
    },
    {
     "name": "stdout",
     "output_type": "stream",
     "text": [
      "ROCK versus...\n",
      "PAPER\n",
      "You lose!\n"
     ]
    },
    {
     "name": "stdin",
     "output_type": "stream",
     "text": [
      "Enter your move: (r)ock (p)aper (s)cissors p\n"
     ]
    },
    {
     "name": "stdout",
     "output_type": "stream",
     "text": [
      "PAPER versus...\n",
      "PAPER\n",
      "It is a tie!\n"
     ]
    },
    {
     "name": "stdin",
     "output_type": "stream",
     "text": [
      "Enter your move: (r)ock (p)aper (s)cissors s\n"
     ]
    },
    {
     "name": "stdout",
     "output_type": "stream",
     "text": [
      "SCISSORS versus...\n",
      "PAPER\n",
      "You win!\n"
     ]
    }
   ],
   "source": [
    "print(\"Welcome to ROCK, PAPER, SCISSORS game!\")\n",
    "\n",
    "#User\n",
    "while(again == 1):\n",
    "    move = input(\"Enter your move: (r)ock (p)aper (s)cissors\")\n",
    "    if move == 'r':\n",
    "        user_move = 'ROCK'\n",
    "        user_num = 0\n",
    "        print(\"ROCK versus...\")\n",
    "\n",
    "    elif move == 'p':\n",
    "        user_move = 'PAPER'\n",
    "        user_num = 1 \n",
    "        print(\"PAPER versus...\") \n",
    "\n",
    "    elif move == 's':\n",
    "        user_move = 'SCISSORS'\n",
    "        user_num = 2\n",
    "        print(\"SCISSORS versus...\") \n",
    "        \n",
    "#Computer\n",
    "    comp_num = random.randint(0,2) # 0~2隨機產生一個數\n",
    "    if comp_num == 0:\n",
    "        comp_move = 'ROCK'\n",
    "\n",
    "    elif comp_num == 1:\n",
    "        comp_move = 'PAPER'\n",
    "\n",
    "    elif comp_num == 2:\n",
    "        comp_move = 'SCISSORS'    \n",
    "\n",
    "    print(comp_move)\n",
    "    \n",
    "#比較輸贏    \n",
    "    if user_num == comp_num:\n",
    "        print(\"It is a tie!\")\n",
    "        count_ties += 1\n",
    "        again = 1\n",
    "    elif user_num == 0 and comp_num == 2:\n",
    "        print(\"You win!\")\n",
    "        again = 0\n",
    "    elif user_num == 1 and comp_num == 0:\n",
    "        print(\"You win!\")\n",
    "        again = 0\n",
    "    elif user_num == 2 and comp_num == 1:\n",
    "        print(\"You win!\")\n",
    "        again = 0\n",
    "    elif user_num == 0 and comp_num == 1:\n",
    "        print(\"You lose!\")\n",
    "        count_lose += 1\n",
    "        again = 1\n",
    "    elif user_num == 1 and comp_num == 2:\n",
    "        print(\"You lose!\")\n",
    "        count_lose += 1\n",
    "        again = 1\n",
    "    elif user_num == 2 and comp_num == 0:\n",
    "        print(\"You lose!\")\n",
    "        count_lose += 1\n",
    "        again = 1"
   ]
  },
  {
   "cell_type": "code",
   "execution_count": 35,
   "metadata": {},
   "outputs": [
    {
     "name": "stdout",
     "output_type": "stream",
     "text": [
      "You have 1 ties and 1 losses before you first win.\n"
     ]
    }
   ],
   "source": [
    "print(\"You have\",count_ties,\"ties and\",count_lose,\"losses before you first win.\")"
   ]
  }
 ],
 "metadata": {
  "kernelspec": {
   "display_name": "Python 3",
   "language": "python",
   "name": "python3"
  },
  "language_info": {
   "codemirror_mode": {
    "name": "ipython",
    "version": 3
   },
   "file_extension": ".py",
   "mimetype": "text/x-python",
   "name": "python",
   "nbconvert_exporter": "python",
   "pygments_lexer": "ipython3",
   "version": "3.8.5"
  }
 },
 "nbformat": 4,
 "nbformat_minor": 4
}
